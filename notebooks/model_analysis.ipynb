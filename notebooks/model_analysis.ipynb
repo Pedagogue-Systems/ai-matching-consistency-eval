{
 "cells": [
  {
   "cell_type": "markdown",
   "id": "fc993a23-061a-4a5b-8fcd-3b984d8bed9c",
   "metadata": {},
   "source": [
    "# AI Matching Consistency Evaluation"
   ]
  },
  {
   "cell_type": "code",
   "execution_count": 1,
   "id": "9d84255a-00c6-4481-8829-0b9df1207827",
   "metadata": {},
   "outputs": [],
   "source": [
    "import numpy as np\n",
    "import pandas as pd\n",
    "import matplotlib.pyplot as plt\n",
    "\n",
    "from sentence_transformers import SentenceTransformer\n",
    "\n",
    "import os, sys\n",
    "sys.path.append(os.path.abspath(os.path.join('..', 'src')))\n",
    "\n",
    "from matcher import read_files, resume_to_job_analysis"
   ]
  },
  {
   "cell_type": "markdown",
   "id": "7475ad23-00e8-4e74-8810-581225d31704",
   "metadata": {},
   "source": [
    "## Read Files"
   ]
  },
  {
   "cell_type": "code",
   "execution_count": 3,
   "id": "41410448-4749-468f-864f-f3ee1eb0b67c",
   "metadata": {},
   "outputs": [],
   "source": [
    "resume_path = '../data/resumes/master_resumes.jsonl'\n",
    "job_postings_path = '../data/job_postings/training_data.csv'\n",
    "\n",
    "resumes, job_postings = read_files(resume_path, job_postings_path)"
   ]
  },
  {
   "cell_type": "markdown",
   "id": "c3a580e1-3755-4215-9b87-afe3dc2cf260",
   "metadata": {},
   "source": [
    "## Resume-to-Job Scoring Analysis"
   ]
  },
  {
   "cell_type": "code",
   "execution_count": 5,
   "id": "37852090-cb1b-4bf8-acae-bcac4ba9d1d7",
   "metadata": {},
   "outputs": [
    {
     "name": "stdout",
     "output_type": "stream",
     "text": [
      "    job_posting      resume  similarity_score               model_name\n",
      "0         job_0   resume_12          0.493402         all-MiniLM-L6-v2\n",
      "1         job_0   resume_80          0.424083         all-MiniLM-L6-v2\n",
      "2         job_0   resume_28          0.388464         all-MiniLM-L6-v2\n",
      "3         job_0   resume_20          0.379641         all-MiniLM-L6-v2\n",
      "4         job_0   resume_16          0.365597         all-MiniLM-L6-v2\n",
      "..          ...         ...               ...                      ...\n",
      "145       job_4   resume_12          0.267149  paraphrase-MiniLM-L6-v2\n",
      "146       job_4  resume_151          0.263981  paraphrase-MiniLM-L6-v2\n",
      "147       job_4   resume_83          0.262380  paraphrase-MiniLM-L6-v2\n",
      "148       job_4   resume_75          0.250104  paraphrase-MiniLM-L6-v2\n",
      "149       job_4   resume_26          0.249087  paraphrase-MiniLM-L6-v2\n",
      "\n",
      "[150 rows x 4 columns]\n"
     ]
    }
   ],
   "source": [
    "models = {'all-MiniLM-L6-v2': SentenceTransformer('all-MiniLM-L6-v2'),\n",
    "          'all-MiniLM-L12-v2': SentenceTransformer('all-MiniLM-L12-v2'),\n",
    "          'paraphrase-MiniLM-L6-v2': SentenceTransformer('paraphrase-MiniLM-L6-v2')}\n",
    "\n",
    "df = resume_to_job_analysis(resumes[0:200], job_postings[0:5], models)\n",
    "df.to_csv('test_2.csv', index=False)\n",
    "print(df)"
   ]
  },
  {
   "cell_type": "markdown",
   "id": "66a00b75-e2f3-41e5-a693-dc8e7ce3a405",
   "metadata": {},
   "source": [
    "## Similarity Score Variance"
   ]
  },
  {
   "cell_type": "code",
   "execution_count": 7,
   "id": "5aaadbe3-3514-4174-9f0a-ec4aa31d7614",
   "metadata": {},
   "outputs": [
    {
     "name": "stdout",
     "output_type": "stream",
     "text": [
      "                              var       std      mean\n",
      "model_name                                           \n",
      "all-MiniLM-L12-v2        0.008533  0.092374  0.312148\n",
      "paraphrase-MiniLM-L6-v2  0.008120  0.090110  0.357004\n",
      "all-MiniLM-L6-v2         0.005038  0.070981  0.318125\n"
     ]
    }
   ],
   "source": [
    "var_df = df.groupby('model_name')['similarity_score'].agg(['var', 'std', 'mean'])\n",
    "var_df = var_df.sort_values('var', ascending=False)\n",
    "print(var_df)"
   ]
  },
  {
   "cell_type": "markdown",
   "id": "4cb944a1-0fb0-43bc-9846-019d64608b6e",
   "metadata": {},
   "source": [
    "## Top Candidate Overlap"
   ]
  },
  {
   "cell_type": "code",
   "execution_count": 70,
   "id": "e2b90d50-0991-4c9c-8a3d-ae8677d1bb27",
   "metadata": {},
   "outputs": [
    {
     "name": "stdout",
     "output_type": "stream",
     "text": [
      "job_0\n",
      "  Model 0 and Model 1:           []\n",
      "  Model 0 and Model 2:           []\n",
      "  Model 1 and Model 2:           []\n",
      "  Model 0, Model 1, and Model 2: []\n",
      "\n",
      "job_1\n",
      "  Model 0 and Model 1:           ['resume_127']\n",
      "  Model 0 and Model 2:           []\n",
      "  Model 1 and Model 2:           []\n",
      "  Model 0, Model 1, and Model 2: []\n",
      "\n",
      "job_2\n",
      "  Model 0 and Model 1:           []\n",
      "  Model 0 and Model 2:           []\n",
      "  Model 1 and Model 2:           []\n",
      "  Model 0, Model 1, and Model 2: []\n",
      "\n",
      "job_3\n",
      "  Model 0 and Model 1:           []\n",
      "  Model 0 and Model 2:           []\n",
      "  Model 1 and Model 2:           ['resume_134', 'resume_7']\n",
      "  Model 0, Model 1, and Model 2: []\n",
      "\n",
      "job_4\n",
      "  Model 0 and Model 1:           []\n",
      "  Model 0 and Model 2:           []\n",
      "  Model 1 and Model 2:           ['resume_192', 'resume_162']\n",
      "  Model 0, Model 1, and Model 2: []\n",
      "\n"
     ]
    }
   ],
   "source": [
    "jobs = df['job_posting'].unique()\n",
    "\n",
    "for job in jobs:\n",
    "    job_df = df[df['job_posting'] == job]\n",
    "    \n",
    "    model_0 = job_df[job_df['model_name'] == 'all-MiniLM-L6-v2'].head(3)\n",
    "    model_1 = job_df[job_df['model_name'] == 'all-MiniLM-L12-v2'].head(3)\n",
    "    model_2 = job_df[job_df['model_name'] == 'paraphrase-MiniLM-L6-v2'].head(3)\n",
    "\n",
    "    resumes_0 = model_0['resume'].tolist()\n",
    "    resumes_1 = model_1['resume'].tolist()\n",
    "    resumes_2 = model_2['resume'].tolist()\n",
    "\n",
    "    model_0_1 = [res for res in resumes_0 if res in resumes_1]\n",
    "    model_0_2 = [res for res in resumes_0 if res in resumes_2]\n",
    "    model_1_2 = [res for res in resumes_1 if res in resumes_2]\n",
    "    model_0_1_2 = [res for res in model_0_1 if res in model_1_2]\n",
    "\n",
    "    print(job)\n",
    "    print(f'  Model 0 and Model 1:           {model_0_1}')\n",
    "    print(f'  Model 0 and Model 2:           {model_0_2}')\n",
    "    print(f'  Model 1 and Model 2:           {model_1_2}')\n",
    "    print(f'  Model 0, Model 1, and Model 2: {model_0_1_2}')\n",
    "    print()"
   ]
  },
  {
   "cell_type": "markdown",
   "id": "f9d81885-f103-4845-b190-923e13d4a72d",
   "metadata": {},
   "source": [
    "### END"
   ]
  }
 ],
 "metadata": {
  "kernelspec": {
   "display_name": "Python [conda env:base] *",
   "language": "python",
   "name": "conda-base-py"
  },
  "language_info": {
   "codemirror_mode": {
    "name": "ipython",
    "version": 3
   },
   "file_extension": ".py",
   "mimetype": "text/x-python",
   "name": "python",
   "nbconvert_exporter": "python",
   "pygments_lexer": "ipython3",
   "version": "3.12.3"
  }
 },
 "nbformat": 4,
 "nbformat_minor": 5
}
