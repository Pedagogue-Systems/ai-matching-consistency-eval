{
 "cells": [
  {
   "cell_type": "markdown",
   "id": "fc993a23-061a-4a5b-8fcd-3b984d8bed9c",
   "metadata": {},
   "source": [
    "# AI Matching Consistency Evaluation"
   ]
  },
  {
   "cell_type": "code",
   "execution_count": 1,
   "id": "9d84255a-00c6-4481-8829-0b9df1207827",
   "metadata": {},
   "outputs": [],
   "source": [
    "import numpy as np\n",
    "import pandas as pd\n",
    "import matplotlib.pyplot as plt\n",
    "\n",
    "from sentence_transformers import SentenceTransformer\n",
    "\n",
    "import os, sys\n",
    "sys.path.append(os.path.abspath(os.path.join('..', 'src')))\n",
    "\n",
    "from matcher import read_files, resume_to_job_analysis"
   ]
  },
  {
   "cell_type": "markdown",
   "id": "7475ad23-00e8-4e74-8810-581225d31704",
   "metadata": {},
   "source": [
    "## Read Files"
   ]
  },
  {
   "cell_type": "code",
   "execution_count": 3,
   "id": "41410448-4749-468f-864f-f3ee1eb0b67c",
   "metadata": {},
   "outputs": [],
   "source": [
    "resume_path = '../data/resumes/master_resumes.jsonl'\n",
    "job_postings_path = '../data/job_postings/training_data.csv'\n",
    "\n",
    "resumes, job_postings = read_files(resume_path, job_postings_path)"
   ]
  },
  {
   "cell_type": "markdown",
   "id": "c3a580e1-3755-4215-9b87-afe3dc2cf260",
   "metadata": {},
   "source": [
    "## Resume-to-Job Scoring Analysis"
   ]
  },
  {
   "cell_type": "code",
   "execution_count": 5,
   "id": "37852090-cb1b-4bf8-acae-bcac4ba9d1d7",
   "metadata": {},
   "outputs": [
    {
     "name": "stdout",
     "output_type": "stream",
     "text": [
      "    job_posting       resume  similarity_score               model_name\n",
      "0         job_0    resume_12          0.493402         all-MiniLM-L6-v2\n",
      "1         job_0    resume_15          0.493402         all-MiniLM-L6-v2\n",
      "2         job_0    resume_45          0.493402         all-MiniLM-L6-v2\n",
      "3         job_0    resume_60          0.493402         all-MiniLM-L6-v2\n",
      "4         job_0    resume_80          0.424083         all-MiniLM-L6-v2\n",
      "..          ...          ...               ...                      ...\n",
      "145       job_4   resume_192          0.304623  paraphrase-MiniLM-L6-v2\n",
      "146       job_4  resume_2822          0.301249  paraphrase-MiniLM-L6-v2\n",
      "147       job_4  resume_4791          0.293399  paraphrase-MiniLM-L6-v2\n",
      "148       job_4  resume_3345          0.293210  paraphrase-MiniLM-L6-v2\n",
      "149       job_4  resume_1488          0.291847  paraphrase-MiniLM-L6-v2\n",
      "\n",
      "[150 rows x 4 columns]\n"
     ]
    }
   ],
   "source": [
    "models = {'all-MiniLM-L6-v2': SentenceTransformer('all-MiniLM-L6-v2'),\n",
    "          'all-MiniLM-L12-v2': SentenceTransformer('all-MiniLM-L12-v2'),\n",
    "          'paraphrase-MiniLM-L6-v2': SentenceTransformer('paraphrase-MiniLM-L6-v2')}\n",
    "\n",
    "df = resume_to_job_analysis(resumes, job_postings[0:5], models)\n",
    "df.to_csv('test.csv', index=False)\n",
    "print(df)"
   ]
  },
  {
   "cell_type": "markdown",
   "id": "66a00b75-e2f3-41e5-a693-dc8e7ce3a405",
   "metadata": {},
   "source": [
    "## Similarity Score Variance"
   ]
  },
  {
   "cell_type": "code",
   "execution_count": 13,
   "id": "5aaadbe3-3514-4174-9f0a-ec4aa31d7614",
   "metadata": {},
   "outputs": [
    {
     "name": "stdout",
     "output_type": "stream",
     "text": [
      "                              var       std      mean\n",
      "model_name                                           \n",
      "paraphrase-MiniLM-L6-v2  0.009470  0.097316  0.424342\n",
      "all-MiniLM-L12-v2        0.009140  0.095605  0.366303\n",
      "all-MiniLM-L6-v2         0.004088  0.063937  0.374703\n"
     ]
    }
   ],
   "source": [
    "var_df = df.groupby('model_name')['similarity_score'].agg(['var', 'std', 'mean'])\n",
    "var_df = var_df.sort_values('var', ascending=False)\n",
    "print(var_df)"
   ]
  },
  {
   "cell_type": "markdown",
   "id": "4cb944a1-0fb0-43bc-9846-019d64608b6e",
   "metadata": {},
   "source": [
    "## Top Candidate Overlap"
   ]
  },
  {
   "cell_type": "code",
   "execution_count": null,
   "id": "e2b90d50-0991-4c9c-8a3d-ae8677d1bb27",
   "metadata": {},
   "outputs": [],
   "source": []
  },
  {
   "cell_type": "markdown",
   "id": "f9d81885-f103-4845-b190-923e13d4a72d",
   "metadata": {},
   "source": [
    "### END"
   ]
  }
 ],
 "metadata": {
  "kernelspec": {
   "display_name": "Python [conda env:base] *",
   "language": "python",
   "name": "conda-base-py"
  },
  "language_info": {
   "codemirror_mode": {
    "name": "ipython",
    "version": 3
   },
   "file_extension": ".py",
   "mimetype": "text/x-python",
   "name": "python",
   "nbconvert_exporter": "python",
   "pygments_lexer": "ipython3",
   "version": "3.12.3"
  }
 },
 "nbformat": 4,
 "nbformat_minor": 5
}
